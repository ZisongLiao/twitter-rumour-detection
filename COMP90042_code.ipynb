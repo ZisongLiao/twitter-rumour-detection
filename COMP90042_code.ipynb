{
 "cells": [
  {
   "cell_type": "code",
   "execution_count": null,
   "metadata": {},
   "outputs": [],
   "source": [
    "pip install simpletransformers"
   ]
  },
  {
   "cell_type": "code",
   "execution_count": 40,
   "metadata": {},
   "outputs": [],
   "source": [
    "from simpletransformers.classification import ClassificationModel, ClassificationArgs\n",
    "import pandas as pd\n",
    "import logging\n",
    "import jsonlines\n",
    "import matplotlib.pyplot as plt\n",
    "import numpy as np\n",
    "import json\n",
    "import nltk\n",
    "from nltk.tokenize import TweetTokenizer\n",
    "from nltk.corpus import stopwords\n",
    "import re\n",
    "import itertools\n",
    "import emoji\n",
    "import sklearn\n",
    "from simpletransformers.language_representation import RepresentationModel\n",
    "from sklearn.feature_extraction.text import CountVectorizer"
   ]
  },
  {
   "cell_type": "code",
   "execution_count": 41,
   "metadata": {},
   "outputs": [],
   "source": [
    "# get texts that are related to the source tweet\n",
    "def get_valid_text(tweet):\n",
    "    all_id = []\n",
    "    for item in tweet:\n",
    "        all_id.append(item['id'])\n",
    "    invalid_id = []\n",
    "    for item in tweet:\n",
    "        if item['in_reply_to_status_id'] not in all_id:\n",
    "            invalid_id.append(item['id'])\n",
    "    \n",
    "    text = tweet[0]['text']\n",
    "    for i in range(1, len(tweet)):\n",
    "        if tweet[i]['in_reply_to_status_id'] in all_id and tweet[i]['in_reply_to_status_id'] not in invalid_id:\n",
    "            text = text + ' ' + tweet[i]['text']\n",
    "\n",
    "    return text"
   ]
  },
  {
   "cell_type": "code",
   "execution_count": 42,
   "metadata": {},
   "outputs": [],
   "source": [
    "# load data from each json file\n",
    "train_list = []\n",
    "with open('train.data.jsonl', 'r') as file:\n",
    "    for item in jsonlines.Reader(file):\n",
    "        train_list.append(item)\n",
    "        \n",
    "with open ('train.label.json', 'r') as file1:\n",
    "    train_labels = json.loads(file1.read())\n",
    "    \n",
    "train_data_list = []\n",
    "\n",
    "for tweet in train_list:\n",
    "    tweetId = tweet[0]['id_str']\n",
    "    text = get_valid_text(tweet)\n",
    "    text = text.replace('\\n', '').replace('\\r', '')\n",
    "    if train_labels[tweetId] == 'non-rumour':\n",
    "        train_data_list.append('1\\t' + text + '\\n')\n",
    "    elif train_labels[tweetId] == 'rumour':\n",
    "        train_data_list.append('0' + '\\t' + text + '\\n')\n",
    "\n",
    "dev_list = []\n",
    "with open('dev.data.jsonl', 'r') as file:\n",
    "    for item in jsonlines.Reader(file):\n",
    "        dev_list.append(item)\n",
    "        \n",
    "with open ('dev.label.json', 'r') as file1:\n",
    "    dev_labels = json.loads(file1.read())\n",
    "    \n",
    "dev_data_list = []\n",
    "for tweet in dev_list:\n",
    "    tweetId = tweet[0]['id_str']\n",
    "    text = get_valid_text(tweet)\n",
    "    text = text.replace('\\n', '').replace('\\r', '')\n",
    "    if dev_labels[tweetId] == 'non-rumour':\n",
    "        dev_data_list.append('1\\t' + text + '\\n')\n",
    "    elif dev_labels[tweetId] == 'rumour':\n",
    "        dev_data_list.append('0' + '\\t' + text + '\\n')\n",
    "\n"
   ]
  },
  {
   "cell_type": "code",
   "execution_count": 23,
   "metadata": {},
   "outputs": [],
   "source": [
    "test_list = []\n",
    "with open('test.data.jsonl', 'r') as file:\n",
    "    for item in jsonlines.Reader(file):\n",
    "        test_list.append(item)\n",
    "\n",
    "test_data_list = []\n",
    "for tweet in test_list:\n",
    "    tweetId = tweet[0]['id_str']\n",
    "    text = get_valid_text(tweet)\n",
    "    text = text.replace('\\n', '').replace('\\r', '')\n",
    "    test_data_list.append(text + '\\n')"
   ]
  },
  {
   "cell_type": "code",
   "execution_count": 49,
   "metadata": {},
   "outputs": [],
   "source": [
    "covid_list = []\n",
    "with open('covid.data.jsonl', 'r') as file:\n",
    "    for item in jsonlines.Reader(file):\n",
    "        covid_list.append(item)\n",
    "\n",
    "covid_data_list = []\n",
    "for tweet in covid_list:\n",
    "    tweetId = tweet[0]['id_str']\n",
    "    text = get_valid_text(tweet)\n",
    "    text = text.replace('\\n', '').replace('\\r', '')\n",
    "    covid_data_list.append(text + '\\n')"
   ]
  },
  {
   "cell_type": "code",
   "execution_count": 24,
   "metadata": {},
   "outputs": [],
   "source": [
    "# create data frames\n",
    "train_df = []\n",
    "for item in train_data_list:\n",
    "    item = item.split('\\t')\n",
    "    train_df.append([item[1], int(item[0])])\n",
    "train_df = pd.DataFrame(train_df, columns=['text', 'label'])\n",
    "\n",
    "dev_df = []\n",
    "for item in dev_data_list:\n",
    "    item = item.split('\\t')\n",
    "    dev_df.append([item[1], int(item[0])])\n",
    "dev_df = pd.DataFrame(dev_df, columns=['text', 'label'])"
   ]
  },
  {
   "cell_type": "code",
   "execution_count": 25,
   "metadata": {},
   "outputs": [],
   "source": [
    "test_df = []\n",
    "for item in test_data_list:\n",
    "    test_df.append(item)\n",
    "test_df = pd.DataFrame(test_df, columns=['text'])"
   ]
  },
  {
   "cell_type": "code",
   "execution_count": 50,
   "metadata": {},
   "outputs": [],
   "source": [
    "covid_df = []\n",
    "for item in covid_data_list:\n",
    "    covid_df.append(item)\n",
    "covid_df = pd.DataFrame(covid_df, columns=['text'])"
   ]
  },
  {
   "cell_type": "code",
   "execution_count": 45,
   "metadata": {},
   "outputs": [],
   "source": [
    "# tokenisation and normalisation\n",
    "def preprocess(text):\n",
    "        stopw = set(stopwords.words('english'))\n",
    "        text = text.lower()\n",
    "        tt = TweetTokenizer()\n",
    "        text = tt.tokenize(text)\n",
    "        for i in range(len(text) - 1, -1, -1):\n",
    "            containAlphabets = False\n",
    "            for j in range(len(text[i])):\n",
    "                if ord(text[i][j]) >= 97 and ord(text[i][j]) <= 122:\n",
    "                    containAlphabets = True\n",
    "                    break\n",
    "            if not containAlphabets:\n",
    "                text.pop(i)\n",
    "\n",
    "        for word in text:\n",
    "            if word in stopw:\n",
    "                text.remove(word)\n",
    "        \n",
    "        return ' '.join(text)"
   ]
  },
  {
   "cell_type": "code",
   "execution_count": 27,
   "metadata": {},
   "outputs": [],
   "source": [
    "train_df['text'] = train_df['text'].apply(preprocess)\n",
    "dev_df['text'] = dev_df['text'].apply(preprocess)"
   ]
  },
  {
   "cell_type": "code",
   "execution_count": 28,
   "metadata": {},
   "outputs": [],
   "source": [
    "test_df['text'] = test_df['text'].apply(preprocess)"
   ]
  },
  {
   "cell_type": "code",
   "execution_count": 51,
   "metadata": {},
   "outputs": [],
   "source": [
    "covid_df['text'] = covid_df['text'].apply(preprocess)"
   ]
  },
  {
   "cell_type": "code",
   "execution_count": 29,
   "metadata": {},
   "outputs": [],
   "source": [
    "# over-sampling of the training data\n",
    "train_non_rumour = train_df.loc[train_df['label'] == 1]\n",
    "train_rumour = train_df.loc[train_df['label'] == 0]\n",
    "train_df = train_df.append(train_rumour)"
   ]
  },
  {
   "cell_type": "code",
   "execution_count": 54,
   "metadata": {},
   "outputs": [],
   "source": [
    "# the hyperparameters of BERT\n",
    "train_args = {\n",
    "    'evaluate_during_training': True,\n",
    "    'logging_steps': 100,\n",
    "    'num_train_epochs': 3,\n",
    "    'evaluate_during_training_steps': 100,\n",
    "    'save_eval_checkpoints': False,\n",
    "    'train_batch_size': 32,\n",
    "    'eval_batch_size': 64,\n",
    "    'overwrite_output_dir': True,\n",
    "    'fp16': False,\n",
    "    'wandb_project': \"visualization-demo\"\n",
    "}"
   ]
  },
  {
   "cell_type": "code",
   "execution_count": 55,
   "metadata": {},
   "outputs": [
    {
     "name": "stderr",
     "output_type": "stream",
     "text": [
      "Some weights of the model checkpoint at bert-base-cased were not used when initializing BertForSequenceClassification: ['cls.predictions.bias', 'cls.predictions.transform.dense.weight', 'cls.predictions.transform.dense.bias', 'cls.predictions.decoder.weight', 'cls.seq_relationship.weight', 'cls.seq_relationship.bias', 'cls.predictions.transform.LayerNorm.weight', 'cls.predictions.transform.LayerNorm.bias']\n",
      "- This IS expected if you are initializing BertForSequenceClassification from the checkpoint of a model trained on another task or with another architecture (e.g. initializing a BertForSequenceClassification model from a BertForPreTraining model).\n",
      "- This IS NOT expected if you are initializing BertForSequenceClassification from the checkpoint of a model that you expect to be exactly identical (initializing a BertForSequenceClassification model from a BertForSequenceClassification model).\n",
      "Some weights of BertForSequenceClassification were not initialized from the model checkpoint at bert-base-cased and are newly initialized: ['classifier.weight', 'classifier.bias']\n",
      "You should probably TRAIN this model on a down-stream task to be able to use it for predictions and inference.\n"
     ]
    }
   ],
   "source": [
    "# create the BERT model\n",
    "bert_model = ClassificationModel('bert', 'bert-base-cased', num_labels=2, use_cuda=False, args=train_args)"
   ]
  },
  {
   "cell_type": "code",
   "execution_count": 56,
   "metadata": {
    "scrolled": true
   },
   "outputs": [
    {
     "name": "stderr",
     "output_type": "stream",
     "text": [
      "C:\\Study\\Anaconda\\Anaconda3\\lib\\site-packages\\simpletransformers\\classification\\classification_model.py:448: UserWarning: Dataframe headers not specified. Falling back to using column 0 as text and column 1 as labels.\n",
      "  warnings.warn(\n"
     ]
    },
    {
     "data": {
      "application/vnd.jupyter.widget-view+json": {
       "model_id": "3d31a376b2dd49ae9afd4b7fc9a7f7ce",
       "version_major": 2,
       "version_minor": 0
      },
      "text/plain": [
       "HBox(children=(FloatProgress(value=0.0, max=6224.0), HTML(value='')))"
      ]
     },
     "metadata": {},
     "output_type": "display_data"
    },
    {
     "name": "stdout",
     "output_type": "stream",
     "text": [
      "\n"
     ]
    },
    {
     "data": {
      "application/vnd.jupyter.widget-view+json": {
       "model_id": "df7fa76e6ce64780a06c460e93c08636",
       "version_major": 2,
       "version_minor": 0
      },
      "text/plain": [
       "HBox(children=(FloatProgress(value=0.0, description='Epoch', max=3.0, style=ProgressStyle(description_width='i…"
      ]
     },
     "metadata": {},
     "output_type": "display_data"
    },
    {
     "data": {
      "text/html": [
       "Finishing last run (ID:1py7l0wd) before initializing another..."
      ],
      "text/plain": [
       "<IPython.core.display.HTML object>"
      ]
     },
     "metadata": {},
     "output_type": "display_data"
    },
    {
     "data": {
      "text/html": [
       "<br/>Waiting for W&B process to finish, PID 2668<br/>Program ended successfully."
      ],
      "text/plain": [
       "<IPython.core.display.HTML object>"
      ]
     },
     "metadata": {},
     "output_type": "display_data"
    },
    {
     "data": {
      "application/vnd.jupyter.widget-view+json": {
       "model_id": "",
       "version_major": 2,
       "version_minor": 0
      },
      "text/plain": [
       "VBox(children=(Label(value=' 0.03MB of 0.03MB uploaded (0.00MB deduped)\\r'), FloatProgress(value=1.0, max=1.0)…"
      ]
     },
     "metadata": {},
     "output_type": "display_data"
    },
    {
     "data": {
      "text/html": [
       "Find user logs for this run at: <code>C:\\Study\\MelbUni\\COMP90042\\Project1\\wandb\\run-20210511_202150-1py7l0wd\\logs\\debug.log</code>"
      ],
      "text/plain": [
       "<IPython.core.display.HTML object>"
      ]
     },
     "metadata": {},
     "output_type": "display_data"
    },
    {
     "data": {
      "text/html": [
       "Find internal logs for this run at: <code>C:\\Study\\MelbUni\\COMP90042\\Project1\\wandb\\run-20210511_202150-1py7l0wd\\logs\\debug-internal.log</code>"
      ],
      "text/plain": [
       "<IPython.core.display.HTML object>"
      ]
     },
     "metadata": {},
     "output_type": "display_data"
    },
    {
     "data": {
      "text/html": [
       "<h3>Run summary:</h3><br/><style>\n",
       "    table.wandb td:nth-child(1) { padding: 0 10px; text-align: right }\n",
       "    </style><table class=\"wandb\">\n",
       "<tr><td>Training loss</td><td>0.09813</td></tr><tr><td>lr</td><td>0.0</td></tr><tr><td>global_step</td><td>780</td></tr><tr><td>_runtime</td><td>21911</td></tr><tr><td>_timestamp</td><td>1620750426</td></tr><tr><td>_step</td><td>17</td></tr><tr><td>tp</td><td>361</td></tr><tr><td>tn</td><td>151</td></tr><tr><td>fp</td><td>36</td></tr><tr><td>fn</td><td>32</td></tr><tr><td>mcc</td><td>0.73025</td></tr><tr><td>train_loss</td><td>0.00146</td></tr><tr><td>eval_loss</td><td>0.67981</td></tr><tr><td>auroc</td><td>0.94014</td></tr><tr><td>auprc</td><td>0.96583</td></tr></table>"
      ],
      "text/plain": [
       "<IPython.core.display.HTML object>"
      ]
     },
     "metadata": {},
     "output_type": "display_data"
    },
    {
     "data": {
      "text/html": [
       "<h3>Run history:</h3><br/><style>\n",
       "    table.wandb td:nth-child(1) { padding: 0 10px; text-align: right }\n",
       "    </style><table class=\"wandb\">\n",
       "<tr><td>Training loss</td><td>▇█▅▆▂▁▃</td></tr><tr><td>lr</td><td>█▇▆▅▃▂▁</td></tr><tr><td>global_step</td><td>▁▁▂▂▂▃▃▄▄▄▅▅▆▆▆▇▇█</td></tr><tr><td>_runtime</td><td>▁▁▂▂▂▃▃▄▄▄▅▅▆▆▆▇▇█</td></tr><tr><td>_timestamp</td><td>▁▁▂▂▂▃▃▄▄▄▅▅▆▆▆▇▇█</td></tr><tr><td>_step</td><td>▁▁▂▂▃▃▃▄▄▅▅▆▆▆▇▇██</td></tr><tr><td>tp</td><td>▁█▃█▂▃█▇▇▇▇</td></tr><tr><td>tn</td><td>▅▁▆▂█▇▂▄▃▂▃</td></tr><tr><td>fp</td><td>▄█▃▇▁▂▇▅▆▇▆</td></tr><tr><td>fn</td><td>█▁▆▁▇▆▁▂▂▂▂</td></tr><tr><td>mcc</td><td>▁▆▅█▅▆███▆▇</td></tr><tr><td>train_loss</td><td>▆█▇▅▁▅▂█▁▃▁</td></tr><tr><td>eval_loss</td><td>▂▁▁▂▄▄▅▅▅██</td></tr><tr><td>auroc</td><td>▁▅▅▇▆▇█▇▇▆▆</td></tr><tr><td>auprc</td><td>▁▄▄▆▆▇█▇▆▃▃</td></tr></table><br/>"
      ],
      "text/plain": [
       "<IPython.core.display.HTML object>"
      ]
     },
     "metadata": {},
     "output_type": "display_data"
    },
    {
     "data": {
      "text/html": [
       "Synced 5 W&B file(s), 1 media file(s), 0 artifact file(s) and 0 other file(s)"
      ],
      "text/plain": [
       "<IPython.core.display.HTML object>"
      ]
     },
     "metadata": {},
     "output_type": "display_data"
    },
    {
     "data": {
      "text/html": [
       "\n",
       "                    <br/>Synced <strong style=\"color:#cdcd00\">upbeat-river-22</strong>: <a href=\"https://wandb.ai/fanguhuiyin/visualization-demo/runs/1py7l0wd\" target=\"_blank\">https://wandb.ai/fanguhuiyin/visualization-demo/runs/1py7l0wd</a><br/>\n",
       "                "
      ],
      "text/plain": [
       "<IPython.core.display.HTML object>"
      ]
     },
     "metadata": {},
     "output_type": "display_data"
    },
    {
     "data": {
      "text/html": [
       "...Successfully finished last run (ID:1py7l0wd). Initializing new run:<br/><br/>"
      ],
      "text/plain": [
       "<IPython.core.display.HTML object>"
      ]
     },
     "metadata": {},
     "output_type": "display_data"
    },
    {
     "name": "stderr",
     "output_type": "stream",
     "text": [
      "wandb: wandb version 0.10.30 is available!  To upgrade, please run:\n",
      "wandb:  $ pip install wandb --upgrade\n"
     ]
    },
    {
     "data": {
      "text/html": [
       "\n",
       "                Tracking run with wandb version 0.10.29<br/>\n",
       "                Syncing run <strong style=\"color:#cdcd00\">autumn-leaf-23</strong> to <a href=\"https://wandb.ai\" target=\"_blank\">Weights & Biases</a> <a href=\"https://docs.wandb.com/integrations/jupyter.html\" target=\"_blank\">(Documentation)</a>.<br/>\n",
       "                Project page: <a href=\"https://wandb.ai/fanguhuiyin/visualization-demo\" target=\"_blank\">https://wandb.ai/fanguhuiyin/visualization-demo</a><br/>\n",
       "                Run page: <a href=\"https://wandb.ai/fanguhuiyin/visualization-demo/runs/8qtfhxsn\" target=\"_blank\">https://wandb.ai/fanguhuiyin/visualization-demo/runs/8qtfhxsn</a><br/>\n",
       "                Run data is saved locally in <code>C:\\Study\\MelbUni\\COMP90042\\Project1\\wandb\\run-20210513_023135-8qtfhxsn</code><br/><br/>\n",
       "            "
      ],
      "text/plain": [
       "<IPython.core.display.HTML object>"
      ]
     },
     "metadata": {},
     "output_type": "display_data"
    },
    {
     "data": {
      "application/vnd.jupyter.widget-view+json": {
       "model_id": "c9900b2e81704596a2e705773f6c1327",
       "version_major": 2,
       "version_minor": 0
      },
      "text/plain": [
       "HBox(children=(FloatProgress(value=0.0, description='Running Epoch 0 of 3', max=195.0, style=ProgressStyle(des…"
      ]
     },
     "metadata": {},
     "output_type": "display_data"
    },
    {
     "name": "stderr",
     "output_type": "stream",
     "text": [
      "C:\\Study\\Anaconda\\Anaconda3\\lib\\site-packages\\simpletransformers\\classification\\classification_model.py:1028: UserWarning: Dataframe headers not specified. Falling back to using column 0 as text and column 1 as labels.\n",
      "  warnings.warn(\n"
     ]
    },
    {
     "data": {
      "application/vnd.jupyter.widget-view+json": {
       "model_id": "cd84a0fed057411ea3904c58a2e34636",
       "version_major": 2,
       "version_minor": 0
      },
      "text/plain": [
       "HBox(children=(FloatProgress(value=0.0, max=580.0), HTML(value='')))"
      ]
     },
     "metadata": {},
     "output_type": "display_data"
    },
    {
     "name": "stdout",
     "output_type": "stream",
     "text": [
      "\n",
      "\n"
     ]
    },
    {
     "name": "stderr",
     "output_type": "stream",
     "text": [
      "C:\\Study\\Anaconda\\Anaconda3\\lib\\site-packages\\simpletransformers\\classification\\classification_model.py:1028: UserWarning: Dataframe headers not specified. Falling back to using column 0 as text and column 1 as labels.\n",
      "  warnings.warn(\n"
     ]
    },
    {
     "data": {
      "application/vnd.jupyter.widget-view+json": {
       "model_id": "dbb5665d38834545a2437c5bde2247c6",
       "version_major": 2,
       "version_minor": 0
      },
      "text/plain": [
       "HBox(children=(FloatProgress(value=0.0, max=580.0), HTML(value='')))"
      ]
     },
     "metadata": {},
     "output_type": "display_data"
    },
    {
     "name": "stdout",
     "output_type": "stream",
     "text": [
      "\n"
     ]
    },
    {
     "data": {
      "application/vnd.jupyter.widget-view+json": {
       "model_id": "1257a44b3f7748339d4a598ac3dc94c6",
       "version_major": 2,
       "version_minor": 0
      },
      "text/plain": [
       "HBox(children=(FloatProgress(value=0.0, description='Running Epoch 1 of 3', max=195.0, style=ProgressStyle(des…"
      ]
     },
     "metadata": {},
     "output_type": "display_data"
    },
    {
     "name": "stderr",
     "output_type": "stream",
     "text": [
      "C:\\Study\\Anaconda\\Anaconda3\\lib\\site-packages\\simpletransformers\\classification\\classification_model.py:1028: UserWarning: Dataframe headers not specified. Falling back to using column 0 as text and column 1 as labels.\n",
      "  warnings.warn(\n"
     ]
    },
    {
     "data": {
      "application/vnd.jupyter.widget-view+json": {
       "model_id": "211048c70b2e48ddb15dd7c2dd76d47a",
       "version_major": 2,
       "version_minor": 0
      },
      "text/plain": [
       "HBox(children=(FloatProgress(value=0.0, max=580.0), HTML(value='')))"
      ]
     },
     "metadata": {},
     "output_type": "display_data"
    },
    {
     "name": "stdout",
     "output_type": "stream",
     "text": [
      "\n"
     ]
    },
    {
     "name": "stderr",
     "output_type": "stream",
     "text": [
      "C:\\Study\\Anaconda\\Anaconda3\\lib\\site-packages\\simpletransformers\\classification\\classification_model.py:1028: UserWarning: Dataframe headers not specified. Falling back to using column 0 as text and column 1 as labels.\n",
      "  warnings.warn(\n"
     ]
    },
    {
     "data": {
      "application/vnd.jupyter.widget-view+json": {
       "model_id": "6bb09b7a03bc4f49a260a28dc2f0ea35",
       "version_major": 2,
       "version_minor": 0
      },
      "text/plain": [
       "HBox(children=(FloatProgress(value=0.0, max=580.0), HTML(value='')))"
      ]
     },
     "metadata": {},
     "output_type": "display_data"
    },
    {
     "name": "stdout",
     "output_type": "stream",
     "text": [
      "\n",
      "\n"
     ]
    },
    {
     "name": "stderr",
     "output_type": "stream",
     "text": [
      "C:\\Study\\Anaconda\\Anaconda3\\lib\\site-packages\\simpletransformers\\classification\\classification_model.py:1028: UserWarning: Dataframe headers not specified. Falling back to using column 0 as text and column 1 as labels.\n",
      "  warnings.warn(\n"
     ]
    },
    {
     "data": {
      "application/vnd.jupyter.widget-view+json": {
       "model_id": "0604170f53f84e7792f42fc260121e31",
       "version_major": 2,
       "version_minor": 0
      },
      "text/plain": [
       "HBox(children=(FloatProgress(value=0.0, max=580.0), HTML(value='')))"
      ]
     },
     "metadata": {},
     "output_type": "display_data"
    },
    {
     "name": "stdout",
     "output_type": "stream",
     "text": [
      "\n"
     ]
    },
    {
     "data": {
      "application/vnd.jupyter.widget-view+json": {
       "model_id": "ede418218dc7482f9e6c41106ba875b0",
       "version_major": 2,
       "version_minor": 0
      },
      "text/plain": [
       "HBox(children=(FloatProgress(value=0.0, description='Running Epoch 2 of 3', max=195.0, style=ProgressStyle(des…"
      ]
     },
     "metadata": {},
     "output_type": "display_data"
    },
    {
     "name": "stderr",
     "output_type": "stream",
     "text": [
      "C:\\Study\\Anaconda\\Anaconda3\\lib\\site-packages\\simpletransformers\\classification\\classification_model.py:1028: UserWarning: Dataframe headers not specified. Falling back to using column 0 as text and column 1 as labels.\n",
      "  warnings.warn(\n"
     ]
    },
    {
     "data": {
      "application/vnd.jupyter.widget-view+json": {
       "model_id": "e4e999d0aa7d43d48d6222cd67419eef",
       "version_major": 2,
       "version_minor": 0
      },
      "text/plain": [
       "HBox(children=(FloatProgress(value=0.0, max=580.0), HTML(value='')))"
      ]
     },
     "metadata": {},
     "output_type": "display_data"
    },
    {
     "name": "stdout",
     "output_type": "stream",
     "text": [
      "\n"
     ]
    },
    {
     "name": "stderr",
     "output_type": "stream",
     "text": [
      "C:\\Study\\Anaconda\\Anaconda3\\lib\\site-packages\\simpletransformers\\classification\\classification_model.py:1028: UserWarning: Dataframe headers not specified. Falling back to using column 0 as text and column 1 as labels.\n",
      "  warnings.warn(\n"
     ]
    },
    {
     "data": {
      "application/vnd.jupyter.widget-view+json": {
       "model_id": "2a75fe6921924613b3d51f096b3411d8",
       "version_major": 2,
       "version_minor": 0
      },
      "text/plain": [
       "HBox(children=(FloatProgress(value=0.0, max=580.0), HTML(value='')))"
      ]
     },
     "metadata": {},
     "output_type": "display_data"
    },
    {
     "name": "stdout",
     "output_type": "stream",
     "text": [
      "\n",
      "\n"
     ]
    },
    {
     "name": "stderr",
     "output_type": "stream",
     "text": [
      "C:\\Study\\Anaconda\\Anaconda3\\lib\\site-packages\\simpletransformers\\classification\\classification_model.py:1028: UserWarning: Dataframe headers not specified. Falling back to using column 0 as text and column 1 as labels.\n",
      "  warnings.warn(\n"
     ]
    },
    {
     "data": {
      "application/vnd.jupyter.widget-view+json": {
       "model_id": "75c42e719c4c45ff9b03dc6040ac8c2f",
       "version_major": 2,
       "version_minor": 0
      },
      "text/plain": [
       "HBox(children=(FloatProgress(value=0.0, max=580.0), HTML(value='')))"
      ]
     },
     "metadata": {},
     "output_type": "display_data"
    },
    {
     "name": "stdout",
     "output_type": "stream",
     "text": [
      "\n",
      "\n"
     ]
    },
    {
     "data": {
      "text/plain": [
       "(585,\n",
       " {'global_step': [100, 195, 200, 300, 390, 400, 500, 585],\n",
       "  'tp': [292, 329, 314, 356, 322, 354, 353, 356],\n",
       "  'tn': [171, 157, 165, 147, 168, 150, 153, 155],\n",
       "  'fp': [16, 30, 22, 40, 19, 37, 34, 32],\n",
       "  'fn': [101, 64, 79, 37, 71, 39, 40, 37],\n",
       "  'mcc': [0.6157637010270793,\n",
       "   0.6513047087292281,\n",
       "   0.6450796003628926,\n",
       "   0.6949194310225264,\n",
       "   0.681560708378925,\n",
       "   0.7009593312749574,\n",
       "   0.7106224298001573,\n",
       "   0.7297566026540231],\n",
       "  'train_loss': [0.6055215001106262,\n",
       "   0.270935982465744,\n",
       "   0.19663278758525848,\n",
       "   0.3372179865837097,\n",
       "   0.37326779961586,\n",
       "   0.170146644115448,\n",
       "   0.028444252908229828,\n",
       "   0.10164628177881241],\n",
       "  'eval_loss': [0.44366034865379333,\n",
       "   0.37111039757728576,\n",
       "   0.39359167516231536,\n",
       "   0.37432430386543275,\n",
       "   0.4336180448532104,\n",
       "   0.4553589552640915,\n",
       "   0.5162048220634461,\n",
       "   0.5401531487703324],\n",
       "  'auroc': [0.9050223836932412,\n",
       "   0.9227252316610197,\n",
       "   0.9239090500877658,\n",
       "   0.9407682573376333,\n",
       "   0.9389857261433373,\n",
       "   0.9295560000544285,\n",
       "   0.9388904763848634,\n",
       "   0.9403328298703244],\n",
       "  'auprc': [0.9567322857153668,\n",
       "   0.9617073023685665,\n",
       "   0.9628037408198115,\n",
       "   0.9716841783215306,\n",
       "   0.9706624049434571,\n",
       "   0.9578192321176996,\n",
       "   0.9706421419939595,\n",
       "   0.9718009574074842]})"
      ]
     },
     "execution_count": 56,
     "metadata": {},
     "output_type": "execute_result"
    }
   ],
   "source": [
    "# train the BERT model\n",
    "bert_model.train_model(train_df, eval_df=dev_df)"
   ]
  },
  {
   "cell_type": "code",
   "execution_count": 85,
   "metadata": {
    "scrolled": true
   },
   "outputs": [
    {
     "data": {
      "application/vnd.jupyter.widget-view+json": {
       "model_id": "03793600635b440a86895ac94fe3a529",
       "version_major": 2,
       "version_minor": 0
      },
      "text/plain": [
       "HBox(children=(FloatProgress(value=0.0, max=580.0), HTML(value='')))"
      ]
     },
     "metadata": {},
     "output_type": "display_data"
    },
    {
     "name": "stdout",
     "output_type": "stream",
     "text": [
      "\n"
     ]
    },
    {
     "data": {
      "application/vnd.jupyter.widget-view+json": {
       "model_id": "81711b4d5dbf414b87b6582028ca908e",
       "version_major": 2,
       "version_minor": 0
      },
      "text/plain": [
       "HBox(children=(FloatProgress(value=0.0, description='Running Evaluation', max=10.0, style=ProgressStyle(descri…"
      ]
     },
     "metadata": {},
     "output_type": "display_data"
    },
    {
     "name": "stdout",
     "output_type": "stream",
     "text": [
      "\n"
     ]
    },
    {
     "data": {
      "text/html": [
       "Finishing last run (ID:3owvsm93) before initializing another..."
      ],
      "text/plain": [
       "<IPython.core.display.HTML object>"
      ]
     },
     "metadata": {},
     "output_type": "display_data"
    },
    {
     "data": {
      "text/html": [
       "<br/>Waiting for W&B process to finish, PID 6352<br/>Program ended successfully."
      ],
      "text/plain": [
       "<IPython.core.display.HTML object>"
      ]
     },
     "metadata": {},
     "output_type": "display_data"
    },
    {
     "data": {
      "application/vnd.jupyter.widget-view+json": {
       "model_id": "",
       "version_major": 2,
       "version_minor": 0
      },
      "text/plain": [
       "VBox(children=(Label(value=' 0.03MB of 0.03MB uploaded (0.00MB deduped)\\r'), FloatProgress(value=1.0, max=1.0)…"
      ]
     },
     "metadata": {},
     "output_type": "display_data"
    },
    {
     "data": {
      "text/html": [
       "Find user logs for this run at: <code>C:\\Study\\MelbUni\\COMP90042\\Project1\\wandb\\run-20210508_153458-3owvsm93\\logs\\debug.log</code>"
      ],
      "text/plain": [
       "<IPython.core.display.HTML object>"
      ]
     },
     "metadata": {},
     "output_type": "display_data"
    },
    {
     "data": {
      "text/html": [
       "Find internal logs for this run at: <code>C:\\Study\\MelbUni\\COMP90042\\Project1\\wandb\\run-20210508_153458-3owvsm93\\logs\\debug-internal.log</code>"
      ],
      "text/plain": [
       "<IPython.core.display.HTML object>"
      ]
     },
     "metadata": {},
     "output_type": "display_data"
    },
    {
     "data": {
      "text/html": [
       "<h3>Run summary:</h3><br/><style>\n",
       "    table.wandb td:nth-child(1) { padding: 0 10px; text-align: right }\n",
       "    </style><table class=\"wandb\">\n",
       "<tr><td>Training loss</td><td>0.14776</td></tr><tr><td>lr</td><td>1e-05</td></tr><tr><td>global_step</td><td>292</td></tr><tr><td>_runtime</td><td>7853</td></tr><tr><td>_timestamp</td><td>1620459955</td></tr><tr><td>_step</td><td>5</td></tr><tr><td>tp</td><td>360</td></tr><tr><td>tn</td><td>135</td></tr><tr><td>fp</td><td>52</td></tr><tr><td>fn</td><td>33</td></tr><tr><td>mcc</td><td>0.65736</td></tr><tr><td>train_loss</td><td>0.04245</td></tr><tr><td>eval_loss</td><td>0.40724</td></tr><tr><td>auroc</td><td>0.91719</td></tr><tr><td>auprc</td><td>0.95919</td></tr></table>"
      ],
      "text/plain": [
       "<IPython.core.display.HTML object>"
      ]
     },
     "metadata": {},
     "output_type": "display_data"
    },
    {
     "data": {
      "text/html": [
       "<h3>Run history:</h3><br/><style>\n",
       "    table.wandb td:nth-child(1) { padding: 0 10px; text-align: right }\n",
       "    </style><table class=\"wandb\">\n",
       "<tr><td>Training loss</td><td>█▁</td></tr><tr><td>lr</td><td>█▁</td></tr><tr><td>global_step</td><td>▁▁▃▅▅█</td></tr><tr><td>_runtime</td><td>▁▁▃▅▅█</td></tr><tr><td>_timestamp</td><td>▁▁▃▅▅█</td></tr><tr><td>_step</td><td>▁▂▄▅▇█</td></tr><tr><td>tp</td><td>▁█▄▆</td></tr><tr><td>tn</td><td>▁▄▇█</td></tr><tr><td>fp</td><td>█▅▂▁</td></tr><tr><td>fn</td><td>█▁▅▃</td></tr><tr><td>mcc</td><td>▁▆▇█</td></tr><tr><td>train_loss</td><td>█▁▄▁</td></tr><tr><td>eval_loss</td><td>█▁▃▂</td></tr><tr><td>auroc</td><td>▁▆▇█</td></tr><tr><td>auprc</td><td>▁▆██</td></tr></table><br/>"
      ],
      "text/plain": [
       "<IPython.core.display.HTML object>"
      ]
     },
     "metadata": {},
     "output_type": "display_data"
    },
    {
     "data": {
      "text/html": [
       "Synced 5 W&B file(s), 1 media file(s), 0 artifact file(s) and 0 other file(s)"
      ],
      "text/plain": [
       "<IPython.core.display.HTML object>"
      ]
     },
     "metadata": {},
     "output_type": "display_data"
    },
    {
     "data": {
      "text/html": [
       "\n",
       "                    <br/>Synced <strong style=\"color:#cdcd00\">floral-brook-11</strong>: <a href=\"https://wandb.ai/fanguhuiyin/visualization-demo/runs/3owvsm93\" target=\"_blank\">https://wandb.ai/fanguhuiyin/visualization-demo/runs/3owvsm93</a><br/>\n",
       "                "
      ],
      "text/plain": [
       "<IPython.core.display.HTML object>"
      ]
     },
     "metadata": {},
     "output_type": "display_data"
    },
    {
     "data": {
      "text/html": [
       "...Successfully finished last run (ID:3owvsm93). Initializing new run:<br/><br/>"
      ],
      "text/plain": [
       "<IPython.core.display.HTML object>"
      ]
     },
     "metadata": {},
     "output_type": "display_data"
    },
    {
     "name": "stderr",
     "output_type": "stream",
     "text": [
      "wandb: wandb version 0.10.30 is available!  To upgrade, please run:\n",
      "wandb:  $ pip install wandb --upgrade\n"
     ]
    },
    {
     "data": {
      "text/html": [
       "\n",
       "                Tracking run with wandb version 0.10.29<br/>\n",
       "                Syncing run <strong style=\"color:#cdcd00\">stilted-sun-12</strong> to <a href=\"https://wandb.ai\" target=\"_blank\">Weights & Biases</a> <a href=\"https://docs.wandb.com/integrations/jupyter.html\" target=\"_blank\">(Documentation)</a>.<br/>\n",
       "                Project page: <a href=\"https://wandb.ai/fanguhuiyin/visualization-demo\" target=\"_blank\">https://wandb.ai/fanguhuiyin/visualization-demo</a><br/>\n",
       "                Run page: <a href=\"https://wandb.ai/fanguhuiyin/visualization-demo/runs/1zx7v37j\" target=\"_blank\">https://wandb.ai/fanguhuiyin/visualization-demo/runs/1zx7v37j</a><br/>\n",
       "                Run data is saved locally in <code>C:\\Study\\MelbUni\\COMP90042\\Project1\\wandb\\run-20210508_175852-1zx7v37j</code><br/><br/>\n",
       "            "
      ],
      "text/plain": [
       "<IPython.core.display.HTML object>"
      ]
     },
     "metadata": {},
     "output_type": "display_data"
    }
   ],
   "source": [
    "# evaluate using dev_data\n",
    "result, model_outputs, wrong_predictions = bert_model.eval_model(dev_df, acc=sklearn.metrics.accuracy_score)"
   ]
  },
  {
   "cell_type": "code",
   "execution_count": 37,
   "metadata": {},
   "outputs": [
    {
     "data": {
      "application/vnd.jupyter.widget-view+json": {
       "model_id": "60202f38f56e46298ac78f07852ddff2",
       "version_major": 2,
       "version_minor": 0
      },
      "text/plain": [
       "HBox(children=(FloatProgress(value=0.0, max=581.0), HTML(value='')))"
      ]
     },
     "metadata": {},
     "output_type": "display_data"
    },
    {
     "name": "stdout",
     "output_type": "stream",
     "text": [
      "\n"
     ]
    },
    {
     "data": {
      "application/vnd.jupyter.widget-view+json": {
       "model_id": "509fdaa93b884b16a87d1cb5eb51f521",
       "version_major": 2,
       "version_minor": 0
      },
      "text/plain": [
       "HBox(children=(FloatProgress(value=0.0, max=10.0), HTML(value='')))"
      ]
     },
     "metadata": {},
     "output_type": "display_data"
    },
    {
     "name": "stdout",
     "output_type": "stream",
     "text": [
      "\n"
     ]
    }
   ],
   "source": [
    "# predict labels of test data\n",
    "test_sentences = []\n",
    "for text in test_df['text']:\n",
    "    test_sentences.append(text)\n",
    "predictions, raw_outputs = bert_model.predict(test_sentences)"
   ]
  },
  {
   "cell_type": "code",
   "execution_count": 34,
   "metadata": {},
   "outputs": [
    {
     "data": {
      "application/vnd.jupyter.widget-view+json": {
       "model_id": "2a2c5b2507e14f5ca7ac02c47eed4494",
       "version_major": 2,
       "version_minor": 0
      },
      "text/plain": [
       "HBox(children=(FloatProgress(value=0.0, max=580.0), HTML(value='')))"
      ]
     },
     "metadata": {},
     "output_type": "display_data"
    },
    {
     "name": "stdout",
     "output_type": "stream",
     "text": [
      "\n"
     ]
    },
    {
     "data": {
      "application/vnd.jupyter.widget-view+json": {
       "model_id": "4ca1db59a1d947e4af8bd7881640b09f",
       "version_major": 2,
       "version_minor": 0
      },
      "text/plain": [
       "HBox(children=(FloatProgress(value=0.0, max=10.0), HTML(value='')))"
      ]
     },
     "metadata": {},
     "output_type": "display_data"
    },
    {
     "name": "stdout",
     "output_type": "stream",
     "text": [
      "\n"
     ]
    }
   ],
   "source": [
    "# predict labels of dev data\n",
    "dev_sentences = []\n",
    "for text in dev_df['text']:\n",
    "    dev_sentences.append(text)\n",
    "dev_predictions, dev_raw_outputs = bert_model.predict(dev_sentences)"
   ]
  },
  {
   "cell_type": "code",
   "execution_count": 57,
   "metadata": {},
   "outputs": [
    {
     "data": {
      "application/vnd.jupyter.widget-view+json": {
       "model_id": "674d47e608e948bc9022643ef82aa6db",
       "version_major": 2,
       "version_minor": 0
      },
      "text/plain": [
       "HBox(children=(FloatProgress(value=0.0, max=17458.0), HTML(value='')))"
      ]
     },
     "metadata": {},
     "output_type": "display_data"
    },
    {
     "name": "stdout",
     "output_type": "stream",
     "text": [
      "\n"
     ]
    },
    {
     "data": {
      "application/vnd.jupyter.widget-view+json": {
       "model_id": "404b0e2df986431ab45de8320cc3af98",
       "version_major": 2,
       "version_minor": 0
      },
      "text/plain": [
       "HBox(children=(FloatProgress(value=0.0, max=273.0), HTML(value='')))"
      ]
     },
     "metadata": {},
     "output_type": "display_data"
    },
    {
     "name": "stdout",
     "output_type": "stream",
     "text": [
      "\n"
     ]
    }
   ],
   "source": [
    "# predict labels of task2 COVID-19 data\n",
    "covid_sentences = []\n",
    "for text in covid_df['text']:\n",
    "    covid_sentences.append(text)\n",
    "covid_predictions, covid_raw_outputs = bert_model.predict(covid_sentences)"
   ]
  },
  {
   "cell_type": "code",
   "execution_count": 38,
   "metadata": {},
   "outputs": [],
   "source": [
    "# get output and convert them to json files\n",
    "output = {}\n",
    "for i in range(len(test_list)):\n",
    "    if predictions[i] == 0:\n",
    "        output[test_list[i][0]['id_str']] = 'rumour'\n",
    "    else:\n",
    "        output[test_list[i][0]['id_str']] = 'non-rumour'"
   ]
  },
  {
   "cell_type": "code",
   "execution_count": 35,
   "metadata": {},
   "outputs": [],
   "source": [
    "dev_output = {}\n",
    "for i in range(len(dev_list)):\n",
    "    if dev_predictions[i] == 0:\n",
    "        dev_output[dev_list[i][0]['id_str']] = 'rumour'\n",
    "    else:\n",
    "        dev_output[dev_list[i][0]['id_str']] = 'non-rumour'"
   ]
  },
  {
   "cell_type": "code",
   "execution_count": 39,
   "metadata": {},
   "outputs": [],
   "source": [
    "with open('test-output.json', 'w') as f:\n",
    "        json.dump(output, f)"
   ]
  },
  {
   "cell_type": "code",
   "execution_count": 36,
   "metadata": {},
   "outputs": [],
   "source": [
    "with open('dev-output.json', 'w') as f:\n",
    "    json.dump(dev_output, f)"
   ]
  },
  {
   "cell_type": "code",
   "execution_count": 64,
   "metadata": {},
   "outputs": [],
   "source": [
    "covid_rumours = []\n",
    "covid_nonrumours = []\n",
    "for i in range(len(covid_sentences)):\n",
    "    if covid_predictions[i] == 0:\n",
    "        covid_rumours.append(covid_sentences[i])\n",
    "    else:\n",
    "        covid_nonrumours.append(covid_sentences[i])"
   ]
  },
  {
   "cell_type": "code",
   "execution_count": 68,
   "metadata": {},
   "outputs": [],
   "source": [
    "with open('covid_rumours.txt', 'w', encoding='utf-8') as f:\n",
    "    for sentence in covid_rumours:\n",
    "        f.write(sentence + '\\n')\n",
    "\n",
    "with open('covid_nonrumours.txt', 'w', encoding='utf-8') as f:\n",
    "    for sentence in covid_nonrumours:\n",
    "        f.write(sentence + '\\n')"
   ]
  }
 ],
 "metadata": {
  "kernelspec": {
   "display_name": "Python 3",
   "language": "python",
   "name": "python3"
  },
  "language_info": {
   "codemirror_mode": {
    "name": "ipython",
    "version": 3
   },
   "file_extension": ".py",
   "mimetype": "text/x-python",
   "name": "python",
   "nbconvert_exporter": "python",
   "pygments_lexer": "ipython3",
   "version": "3.8.3"
  }
 },
 "nbformat": 4,
 "nbformat_minor": 4
}
